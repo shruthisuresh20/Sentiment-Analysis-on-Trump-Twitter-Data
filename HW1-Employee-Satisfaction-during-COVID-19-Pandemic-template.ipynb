{
 "cells": [
  {
   "cell_type": "markdown",
   "id": "578362d8",
   "metadata": {},
   "source": [
    "# HW 1 - Sentiment Analysis for Employee Satisfaction during COVID-19 Pandemic on Glassdoor Panel Dataset"
   ]
  },
  {
   "cell_type": "markdown",
   "id": "89ed771e",
   "metadata": {},
   "source": [
    "The COVID-19 pandemic and the following lockdowns disrupted company operations and lead to an unprecedented impact on employees. Companies adopting different strategies in dealing with this urgent condition may have different results on employee satisfaction. Employee satisfaction reviews during the pandemic may contain useful information for investors. In this homework, we will use Sentiment Analysis to analyze employee satisfaction reviews on the Glassdoor dataset from major Silicon Valley firms.\n",
    "\n",
    "**Submission**\n",
    "Submit one Jupyter notebook file (.ipynb) with your code; be sure to explain your code using Markdown cells and comments.  No need to attach any other file."
   ]
  },
  {
   "cell_type": "code",
   "execution_count": 1,
   "id": "6b29fe50",
   "metadata": {},
   "outputs": [],
   "source": [
    "# print all the outputs in a cell\n",
    "from IPython.core.interactiveshell import InteractiveShell\n",
    "InteractiveShell.ast_node_interactivity = \"all\""
   ]
  },
  {
   "cell_type": "code",
   "execution_count": 2,
   "id": "179d3933",
   "metadata": {},
   "outputs": [],
   "source": [
    "import pandas as pd"
   ]
  },
  {
   "cell_type": "markdown",
   "id": "b3375c90",
   "metadata": {},
   "source": [
    "\n",
    "## Step 1: Import the datasets\n",
    "1. data_glassdoor_hw1.csv\n",
    "2. positive.txt\n",
    "3. negative.txt\n",
    "4. stopwords.txt"
   ]
  },
  {
   "cell_type": "markdown",
   "id": "cd195285",
   "metadata": {},
   "source": [
    "### Import data_glassdoor_hw1.csv"
   ]
  },
  {
   "cell_type": "code",
   "execution_count": 3,
   "id": "bc45e619",
   "metadata": {},
   "outputs": [
    {
     "ename": "FileNotFoundError",
     "evalue": "[Errno 2] No such file or directory: 'data_glassdoor_hw1.csv'",
     "output_type": "error",
     "traceback": [
      "\u001b[1;31m---------------------------------------------------------------------------\u001b[0m",
      "\u001b[1;31mFileNotFoundError\u001b[0m                         Traceback (most recent call last)",
      "Cell \u001b[1;32mIn[3], line 1\u001b[0m\n\u001b[1;32m----> 1\u001b[0m df \u001b[38;5;241m=\u001b[39m \u001b[43mpd\u001b[49m\u001b[38;5;241;43m.\u001b[39;49m\u001b[43mread_csv\u001b[49m\u001b[43m(\u001b[49m\u001b[38;5;124;43m'\u001b[39;49m\u001b[38;5;124;43mdata_glassdoor_hw1.csv\u001b[39;49m\u001b[38;5;124;43m'\u001b[39;49m\u001b[43m)\u001b[49m\n",
      "File \u001b[1;32m~\\anaconda3\\anacondanew\\Lib\\site-packages\\pandas\\util\\_decorators.py:211\u001b[0m, in \u001b[0;36mdeprecate_kwarg.<locals>._deprecate_kwarg.<locals>.wrapper\u001b[1;34m(*args, **kwargs)\u001b[0m\n\u001b[0;32m    209\u001b[0m     \u001b[38;5;28;01melse\u001b[39;00m:\n\u001b[0;32m    210\u001b[0m         kwargs[new_arg_name] \u001b[38;5;241m=\u001b[39m new_arg_value\n\u001b[1;32m--> 211\u001b[0m \u001b[38;5;28;01mreturn\u001b[39;00m \u001b[43mfunc\u001b[49m\u001b[43m(\u001b[49m\u001b[38;5;241;43m*\u001b[39;49m\u001b[43margs\u001b[49m\u001b[43m,\u001b[49m\u001b[43m \u001b[49m\u001b[38;5;241;43m*\u001b[39;49m\u001b[38;5;241;43m*\u001b[39;49m\u001b[43mkwargs\u001b[49m\u001b[43m)\u001b[49m\n",
      "File \u001b[1;32m~\\anaconda3\\anacondanew\\Lib\\site-packages\\pandas\\util\\_decorators.py:331\u001b[0m, in \u001b[0;36mdeprecate_nonkeyword_arguments.<locals>.decorate.<locals>.wrapper\u001b[1;34m(*args, **kwargs)\u001b[0m\n\u001b[0;32m    325\u001b[0m \u001b[38;5;28;01mif\u001b[39;00m \u001b[38;5;28mlen\u001b[39m(args) \u001b[38;5;241m>\u001b[39m num_allow_args:\n\u001b[0;32m    326\u001b[0m     warnings\u001b[38;5;241m.\u001b[39mwarn(\n\u001b[0;32m    327\u001b[0m         msg\u001b[38;5;241m.\u001b[39mformat(arguments\u001b[38;5;241m=\u001b[39m_format_argument_list(allow_args)),\n\u001b[0;32m    328\u001b[0m         \u001b[38;5;167;01mFutureWarning\u001b[39;00m,\n\u001b[0;32m    329\u001b[0m         stacklevel\u001b[38;5;241m=\u001b[39mfind_stack_level(),\n\u001b[0;32m    330\u001b[0m     )\n\u001b[1;32m--> 331\u001b[0m \u001b[38;5;28;01mreturn\u001b[39;00m \u001b[43mfunc\u001b[49m\u001b[43m(\u001b[49m\u001b[38;5;241;43m*\u001b[39;49m\u001b[43margs\u001b[49m\u001b[43m,\u001b[49m\u001b[43m \u001b[49m\u001b[38;5;241;43m*\u001b[39;49m\u001b[38;5;241;43m*\u001b[39;49m\u001b[43mkwargs\u001b[49m\u001b[43m)\u001b[49m\n",
      "File \u001b[1;32m~\\anaconda3\\anacondanew\\Lib\\site-packages\\pandas\\io\\parsers\\readers.py:950\u001b[0m, in \u001b[0;36mread_csv\u001b[1;34m(filepath_or_buffer, sep, delimiter, header, names, index_col, usecols, squeeze, prefix, mangle_dupe_cols, dtype, engine, converters, true_values, false_values, skipinitialspace, skiprows, skipfooter, nrows, na_values, keep_default_na, na_filter, verbose, skip_blank_lines, parse_dates, infer_datetime_format, keep_date_col, date_parser, dayfirst, cache_dates, iterator, chunksize, compression, thousands, decimal, lineterminator, quotechar, quoting, doublequote, escapechar, comment, encoding, encoding_errors, dialect, error_bad_lines, warn_bad_lines, on_bad_lines, delim_whitespace, low_memory, memory_map, float_precision, storage_options)\u001b[0m\n\u001b[0;32m    935\u001b[0m kwds_defaults \u001b[38;5;241m=\u001b[39m _refine_defaults_read(\n\u001b[0;32m    936\u001b[0m     dialect,\n\u001b[0;32m    937\u001b[0m     delimiter,\n\u001b[1;32m   (...)\u001b[0m\n\u001b[0;32m    946\u001b[0m     defaults\u001b[38;5;241m=\u001b[39m{\u001b[38;5;124m\"\u001b[39m\u001b[38;5;124mdelimiter\u001b[39m\u001b[38;5;124m\"\u001b[39m: \u001b[38;5;124m\"\u001b[39m\u001b[38;5;124m,\u001b[39m\u001b[38;5;124m\"\u001b[39m},\n\u001b[0;32m    947\u001b[0m )\n\u001b[0;32m    948\u001b[0m kwds\u001b[38;5;241m.\u001b[39mupdate(kwds_defaults)\n\u001b[1;32m--> 950\u001b[0m \u001b[38;5;28;01mreturn\u001b[39;00m \u001b[43m_read\u001b[49m\u001b[43m(\u001b[49m\u001b[43mfilepath_or_buffer\u001b[49m\u001b[43m,\u001b[49m\u001b[43m \u001b[49m\u001b[43mkwds\u001b[49m\u001b[43m)\u001b[49m\n",
      "File \u001b[1;32m~\\anaconda3\\anacondanew\\Lib\\site-packages\\pandas\\io\\parsers\\readers.py:605\u001b[0m, in \u001b[0;36m_read\u001b[1;34m(filepath_or_buffer, kwds)\u001b[0m\n\u001b[0;32m    602\u001b[0m _validate_names(kwds\u001b[38;5;241m.\u001b[39mget(\u001b[38;5;124m\"\u001b[39m\u001b[38;5;124mnames\u001b[39m\u001b[38;5;124m\"\u001b[39m, \u001b[38;5;28;01mNone\u001b[39;00m))\n\u001b[0;32m    604\u001b[0m \u001b[38;5;66;03m# Create the parser.\u001b[39;00m\n\u001b[1;32m--> 605\u001b[0m parser \u001b[38;5;241m=\u001b[39m \u001b[43mTextFileReader\u001b[49m\u001b[43m(\u001b[49m\u001b[43mfilepath_or_buffer\u001b[49m\u001b[43m,\u001b[49m\u001b[43m \u001b[49m\u001b[38;5;241;43m*\u001b[39;49m\u001b[38;5;241;43m*\u001b[39;49m\u001b[43mkwds\u001b[49m\u001b[43m)\u001b[49m\n\u001b[0;32m    607\u001b[0m \u001b[38;5;28;01mif\u001b[39;00m chunksize \u001b[38;5;129;01mor\u001b[39;00m iterator:\n\u001b[0;32m    608\u001b[0m     \u001b[38;5;28;01mreturn\u001b[39;00m parser\n",
      "File \u001b[1;32m~\\anaconda3\\anacondanew\\Lib\\site-packages\\pandas\\io\\parsers\\readers.py:1442\u001b[0m, in \u001b[0;36mTextFileReader.__init__\u001b[1;34m(self, f, engine, **kwds)\u001b[0m\n\u001b[0;32m   1439\u001b[0m     \u001b[38;5;28mself\u001b[39m\u001b[38;5;241m.\u001b[39moptions[\u001b[38;5;124m\"\u001b[39m\u001b[38;5;124mhas_index_names\u001b[39m\u001b[38;5;124m\"\u001b[39m] \u001b[38;5;241m=\u001b[39m kwds[\u001b[38;5;124m\"\u001b[39m\u001b[38;5;124mhas_index_names\u001b[39m\u001b[38;5;124m\"\u001b[39m]\n\u001b[0;32m   1441\u001b[0m \u001b[38;5;28mself\u001b[39m\u001b[38;5;241m.\u001b[39mhandles: IOHandles \u001b[38;5;241m|\u001b[39m \u001b[38;5;28;01mNone\u001b[39;00m \u001b[38;5;241m=\u001b[39m \u001b[38;5;28;01mNone\u001b[39;00m\n\u001b[1;32m-> 1442\u001b[0m \u001b[38;5;28mself\u001b[39m\u001b[38;5;241m.\u001b[39m_engine \u001b[38;5;241m=\u001b[39m \u001b[38;5;28;43mself\u001b[39;49m\u001b[38;5;241;43m.\u001b[39;49m\u001b[43m_make_engine\u001b[49m\u001b[43m(\u001b[49m\u001b[43mf\u001b[49m\u001b[43m,\u001b[49m\u001b[43m \u001b[49m\u001b[38;5;28;43mself\u001b[39;49m\u001b[38;5;241;43m.\u001b[39;49m\u001b[43mengine\u001b[49m\u001b[43m)\u001b[49m\n",
      "File \u001b[1;32m~\\anaconda3\\anacondanew\\Lib\\site-packages\\pandas\\io\\parsers\\readers.py:1735\u001b[0m, in \u001b[0;36mTextFileReader._make_engine\u001b[1;34m(self, f, engine)\u001b[0m\n\u001b[0;32m   1733\u001b[0m     \u001b[38;5;28;01mif\u001b[39;00m \u001b[38;5;124m\"\u001b[39m\u001b[38;5;124mb\u001b[39m\u001b[38;5;124m\"\u001b[39m \u001b[38;5;129;01mnot\u001b[39;00m \u001b[38;5;129;01min\u001b[39;00m mode:\n\u001b[0;32m   1734\u001b[0m         mode \u001b[38;5;241m+\u001b[39m\u001b[38;5;241m=\u001b[39m \u001b[38;5;124m\"\u001b[39m\u001b[38;5;124mb\u001b[39m\u001b[38;5;124m\"\u001b[39m\n\u001b[1;32m-> 1735\u001b[0m \u001b[38;5;28mself\u001b[39m\u001b[38;5;241m.\u001b[39mhandles \u001b[38;5;241m=\u001b[39m \u001b[43mget_handle\u001b[49m\u001b[43m(\u001b[49m\n\u001b[0;32m   1736\u001b[0m \u001b[43m    \u001b[49m\u001b[43mf\u001b[49m\u001b[43m,\u001b[49m\n\u001b[0;32m   1737\u001b[0m \u001b[43m    \u001b[49m\u001b[43mmode\u001b[49m\u001b[43m,\u001b[49m\n\u001b[0;32m   1738\u001b[0m \u001b[43m    \u001b[49m\u001b[43mencoding\u001b[49m\u001b[38;5;241;43m=\u001b[39;49m\u001b[38;5;28;43mself\u001b[39;49m\u001b[38;5;241;43m.\u001b[39;49m\u001b[43moptions\u001b[49m\u001b[38;5;241;43m.\u001b[39;49m\u001b[43mget\u001b[49m\u001b[43m(\u001b[49m\u001b[38;5;124;43m\"\u001b[39;49m\u001b[38;5;124;43mencoding\u001b[39;49m\u001b[38;5;124;43m\"\u001b[39;49m\u001b[43m,\u001b[49m\u001b[43m \u001b[49m\u001b[38;5;28;43;01mNone\u001b[39;49;00m\u001b[43m)\u001b[49m\u001b[43m,\u001b[49m\n\u001b[0;32m   1739\u001b[0m \u001b[43m    \u001b[49m\u001b[43mcompression\u001b[49m\u001b[38;5;241;43m=\u001b[39;49m\u001b[38;5;28;43mself\u001b[39;49m\u001b[38;5;241;43m.\u001b[39;49m\u001b[43moptions\u001b[49m\u001b[38;5;241;43m.\u001b[39;49m\u001b[43mget\u001b[49m\u001b[43m(\u001b[49m\u001b[38;5;124;43m\"\u001b[39;49m\u001b[38;5;124;43mcompression\u001b[39;49m\u001b[38;5;124;43m\"\u001b[39;49m\u001b[43m,\u001b[49m\u001b[43m \u001b[49m\u001b[38;5;28;43;01mNone\u001b[39;49;00m\u001b[43m)\u001b[49m\u001b[43m,\u001b[49m\n\u001b[0;32m   1740\u001b[0m \u001b[43m    \u001b[49m\u001b[43mmemory_map\u001b[49m\u001b[38;5;241;43m=\u001b[39;49m\u001b[38;5;28;43mself\u001b[39;49m\u001b[38;5;241;43m.\u001b[39;49m\u001b[43moptions\u001b[49m\u001b[38;5;241;43m.\u001b[39;49m\u001b[43mget\u001b[49m\u001b[43m(\u001b[49m\u001b[38;5;124;43m\"\u001b[39;49m\u001b[38;5;124;43mmemory_map\u001b[39;49m\u001b[38;5;124;43m\"\u001b[39;49m\u001b[43m,\u001b[49m\u001b[43m \u001b[49m\u001b[38;5;28;43;01mFalse\u001b[39;49;00m\u001b[43m)\u001b[49m\u001b[43m,\u001b[49m\n\u001b[0;32m   1741\u001b[0m \u001b[43m    \u001b[49m\u001b[43mis_text\u001b[49m\u001b[38;5;241;43m=\u001b[39;49m\u001b[43mis_text\u001b[49m\u001b[43m,\u001b[49m\n\u001b[0;32m   1742\u001b[0m \u001b[43m    \u001b[49m\u001b[43merrors\u001b[49m\u001b[38;5;241;43m=\u001b[39;49m\u001b[38;5;28;43mself\u001b[39;49m\u001b[38;5;241;43m.\u001b[39;49m\u001b[43moptions\u001b[49m\u001b[38;5;241;43m.\u001b[39;49m\u001b[43mget\u001b[49m\u001b[43m(\u001b[49m\u001b[38;5;124;43m\"\u001b[39;49m\u001b[38;5;124;43mencoding_errors\u001b[39;49m\u001b[38;5;124;43m\"\u001b[39;49m\u001b[43m,\u001b[49m\u001b[43m \u001b[49m\u001b[38;5;124;43m\"\u001b[39;49m\u001b[38;5;124;43mstrict\u001b[39;49m\u001b[38;5;124;43m\"\u001b[39;49m\u001b[43m)\u001b[49m\u001b[43m,\u001b[49m\n\u001b[0;32m   1743\u001b[0m \u001b[43m    \u001b[49m\u001b[43mstorage_options\u001b[49m\u001b[38;5;241;43m=\u001b[39;49m\u001b[38;5;28;43mself\u001b[39;49m\u001b[38;5;241;43m.\u001b[39;49m\u001b[43moptions\u001b[49m\u001b[38;5;241;43m.\u001b[39;49m\u001b[43mget\u001b[49m\u001b[43m(\u001b[49m\u001b[38;5;124;43m\"\u001b[39;49m\u001b[38;5;124;43mstorage_options\u001b[39;49m\u001b[38;5;124;43m\"\u001b[39;49m\u001b[43m,\u001b[49m\u001b[43m \u001b[49m\u001b[38;5;28;43;01mNone\u001b[39;49;00m\u001b[43m)\u001b[49m\u001b[43m,\u001b[49m\n\u001b[0;32m   1744\u001b[0m \u001b[43m\u001b[49m\u001b[43m)\u001b[49m\n\u001b[0;32m   1745\u001b[0m \u001b[38;5;28;01massert\u001b[39;00m \u001b[38;5;28mself\u001b[39m\u001b[38;5;241m.\u001b[39mhandles \u001b[38;5;129;01mis\u001b[39;00m \u001b[38;5;129;01mnot\u001b[39;00m \u001b[38;5;28;01mNone\u001b[39;00m\n\u001b[0;32m   1746\u001b[0m f \u001b[38;5;241m=\u001b[39m \u001b[38;5;28mself\u001b[39m\u001b[38;5;241m.\u001b[39mhandles\u001b[38;5;241m.\u001b[39mhandle\n",
      "File \u001b[1;32m~\\anaconda3\\anacondanew\\Lib\\site-packages\\pandas\\io\\common.py:856\u001b[0m, in \u001b[0;36mget_handle\u001b[1;34m(path_or_buf, mode, encoding, compression, memory_map, is_text, errors, storage_options)\u001b[0m\n\u001b[0;32m    851\u001b[0m \u001b[38;5;28;01melif\u001b[39;00m \u001b[38;5;28misinstance\u001b[39m(handle, \u001b[38;5;28mstr\u001b[39m):\n\u001b[0;32m    852\u001b[0m     \u001b[38;5;66;03m# Check whether the filename is to be opened in binary mode.\u001b[39;00m\n\u001b[0;32m    853\u001b[0m     \u001b[38;5;66;03m# Binary mode does not support 'encoding' and 'newline'.\u001b[39;00m\n\u001b[0;32m    854\u001b[0m     \u001b[38;5;28;01mif\u001b[39;00m ioargs\u001b[38;5;241m.\u001b[39mencoding \u001b[38;5;129;01mand\u001b[39;00m \u001b[38;5;124m\"\u001b[39m\u001b[38;5;124mb\u001b[39m\u001b[38;5;124m\"\u001b[39m \u001b[38;5;129;01mnot\u001b[39;00m \u001b[38;5;129;01min\u001b[39;00m ioargs\u001b[38;5;241m.\u001b[39mmode:\n\u001b[0;32m    855\u001b[0m         \u001b[38;5;66;03m# Encoding\u001b[39;00m\n\u001b[1;32m--> 856\u001b[0m         handle \u001b[38;5;241m=\u001b[39m \u001b[38;5;28;43mopen\u001b[39;49m\u001b[43m(\u001b[49m\n\u001b[0;32m    857\u001b[0m \u001b[43m            \u001b[49m\u001b[43mhandle\u001b[49m\u001b[43m,\u001b[49m\n\u001b[0;32m    858\u001b[0m \u001b[43m            \u001b[49m\u001b[43mioargs\u001b[49m\u001b[38;5;241;43m.\u001b[39;49m\u001b[43mmode\u001b[49m\u001b[43m,\u001b[49m\n\u001b[0;32m    859\u001b[0m \u001b[43m            \u001b[49m\u001b[43mencoding\u001b[49m\u001b[38;5;241;43m=\u001b[39;49m\u001b[43mioargs\u001b[49m\u001b[38;5;241;43m.\u001b[39;49m\u001b[43mencoding\u001b[49m\u001b[43m,\u001b[49m\n\u001b[0;32m    860\u001b[0m \u001b[43m            \u001b[49m\u001b[43merrors\u001b[49m\u001b[38;5;241;43m=\u001b[39;49m\u001b[43merrors\u001b[49m\u001b[43m,\u001b[49m\n\u001b[0;32m    861\u001b[0m \u001b[43m            \u001b[49m\u001b[43mnewline\u001b[49m\u001b[38;5;241;43m=\u001b[39;49m\u001b[38;5;124;43m\"\u001b[39;49m\u001b[38;5;124;43m\"\u001b[39;49m\u001b[43m,\u001b[49m\n\u001b[0;32m    862\u001b[0m \u001b[43m        \u001b[49m\u001b[43m)\u001b[49m\n\u001b[0;32m    863\u001b[0m     \u001b[38;5;28;01melse\u001b[39;00m:\n\u001b[0;32m    864\u001b[0m         \u001b[38;5;66;03m# Binary mode\u001b[39;00m\n\u001b[0;32m    865\u001b[0m         handle \u001b[38;5;241m=\u001b[39m \u001b[38;5;28mopen\u001b[39m(handle, ioargs\u001b[38;5;241m.\u001b[39mmode)\n",
      "\u001b[1;31mFileNotFoundError\u001b[0m: [Errno 2] No such file or directory: 'data_glassdoor_hw1.csv'"
     ]
    }
   ],
   "source": [
    "df = pd.read_csv('data_glassdoor_hw1.csv')"
   ]
  },
  {
   "cell_type": "code",
   "execution_count": null,
   "id": "e0fbdfd3",
   "metadata": {},
   "outputs": [],
   "source": [
    "df.head(10)"
   ]
  },
  {
   "cell_type": "markdown",
   "id": "88f68026",
   "metadata": {},
   "source": [
    "#### Get 6 lists from the dataframe: \n",
    "1. apple_pros \n",
    "2. apple_cons \n",
    "3. facebook_pros \n",
    "4. facebook_cons \n",
    "5. google_pros \n",
    "6. google_cons"
   ]
  },
  {
   "cell_type": "code",
   "execution_count": null,
   "id": "643c141f",
   "metadata": {},
   "outputs": [],
   "source": [
    "apple_pros=list(df.loc[(df['Firm'] == 'Apple')]['pros'])\n",
    "apple_cons=list(df.loc[(df['Firm'] == 'Apple')]['cons'])\n",
    "\n",
    "facebook_pros=list(df.loc[(df['Firm'] == 'Facebook')]['pros'])\n",
    "facebook_cons=list(df.loc[(df['Firm'] == 'Facebook')]['cons'])\n",
    "\n",
    "google_pros=list(df.loc[(df['Firm'] == 'Google')]['pros'])\n",
    "google_cons=list(df.loc[(df['Firm'] == 'Google')]['cons'])"
   ]
  },
  {
   "cell_type": "code",
   "execution_count": null,
   "id": "d3b6ef82",
   "metadata": {},
   "outputs": [],
   "source": [
    "apple_pros[0:9]"
   ]
  },
  {
   "cell_type": "code",
   "execution_count": null,
   "id": "957b2e3e",
   "metadata": {},
   "outputs": [],
   "source": [
    "apple_cons[0:9]"
   ]
  },
  {
   "cell_type": "code",
   "execution_count": null,
   "id": "69985154",
   "metadata": {},
   "outputs": [],
   "source": [
    "facebook_pros[0:9]"
   ]
  },
  {
   "cell_type": "code",
   "execution_count": null,
   "id": "3628003e",
   "metadata": {},
   "outputs": [],
   "source": [
    "facebook_cons[0:9]"
   ]
  },
  {
   "cell_type": "code",
   "execution_count": null,
   "id": "9a081ad0",
   "metadata": {},
   "outputs": [],
   "source": [
    "google_pros[0:9]"
   ]
  },
  {
   "cell_type": "code",
   "execution_count": null,
   "id": "31b45843",
   "metadata": {},
   "outputs": [],
   "source": [
    "google_cons[0:9]"
   ]
  },
  {
   "cell_type": "markdown",
   "id": "8ac9e772",
   "metadata": {},
   "source": [
    "Please print out first 10 reviews for each list"
   ]
  },
  {
   "cell_type": "markdown",
   "id": "14057781",
   "metadata": {},
   "source": [
    "### Import Positive words "
   ]
  },
  {
   "cell_type": "markdown",
   "id": "9047374c",
   "metadata": {},
   "source": [
    "Save import words in a list"
   ]
  },
  {
   "cell_type": "markdown",
   "id": "8e420e50",
   "metadata": {},
   "source": [
    "Hint: Files I/O"
   ]
  },
  {
   "cell_type": "code",
   "execution_count": null,
   "id": "df956004",
   "metadata": {},
   "outputs": [],
   "source": [
    "positive_words = pd.read_csv('positive.csv')\n",
    "positive_words\n"
   ]
  },
  {
   "cell_type": "code",
   "execution_count": null,
   "id": "d0809b92",
   "metadata": {},
   "outputs": [],
   "source": [
    "positive_words"
   ]
  },
  {
   "cell_type": "code",
   "execution_count": null,
   "id": "e5bbb8bb",
   "metadata": {},
   "outputs": [],
   "source": [
    "positive=list(positive_words['a+'])\n",
    "positive"
   ]
  },
  {
   "cell_type": "markdown",
   "id": "c227bd8a",
   "metadata": {},
   "source": [
    "### Import Negative words"
   ]
  },
  {
   "cell_type": "markdown",
   "id": "b91902d7",
   "metadata": {},
   "source": [
    "Save import words in a list"
   ]
  },
  {
   "cell_type": "markdown",
   "id": "9be63ac6",
   "metadata": {},
   "source": [
    "Hint: Files I/O"
   ]
  },
  {
   "cell_type": "code",
   "execution_count": null,
   "id": "22335914",
   "metadata": {},
   "outputs": [],
   "source": [
    "negative_words=pd.read_csv(\"negative.csv\")\n",
    "negative_words"
   ]
  },
  {
   "cell_type": "code",
   "execution_count": null,
   "id": "770355e3",
   "metadata": {},
   "outputs": [],
   "source": [
    "negative= list(negative_words[\"2-faced\"])\n",
    "negative "
   ]
  },
  {
   "cell_type": "markdown",
   "id": "414bf28a",
   "metadata": {},
   "source": [
    "### Import Stopwords"
   ]
  },
  {
   "cell_type": "markdown",
   "id": "ae0479d0",
   "metadata": {},
   "source": [
    "Save import words in a list"
   ]
  },
  {
   "cell_type": "markdown",
   "id": "bba0ada2",
   "metadata": {},
   "source": [
    "Hint: Files I/O"
   ]
  },
  {
   "cell_type": "code",
   "execution_count": null,
   "id": "9060beef",
   "metadata": {
    "scrolled": true
   },
   "outputs": [],
   "source": [
    "stop_words=pd.read_csv(\"stopwords.csv\")\n",
    "stop_words"
   ]
  },
  {
   "cell_type": "code",
   "execution_count": null,
   "id": "41ee9874",
   "metadata": {},
   "outputs": [],
   "source": [
    "stopwords=list(stop_words[\"a\"])\n",
    "stopwords"
   ]
  },
  {
   "cell_type": "markdown",
   "id": "e45601fa",
   "metadata": {},
   "source": [
    "## Step 2: Text data preprocessing"
   ]
  },
  {
   "cell_type": "markdown",
   "id": "fce0e689",
   "metadata": {},
   "source": [
    "Generate a function or functions to preprocess the 6 lists (i.e., 1. apple_pros, 2. apple_cons, 3. facebook_pros, 4. facebook_cons, 5. google_pros, and 6. google_cons) with the following purposes:\n",
    "1. Lower case\n",
    "2. Remove leading and ending spaces\n",
    "2. Remove punctuations like @ : . , ?\n",
    "3. Remove new line character \\n and replace it with space\n",
    "4. Convert all reviews to words"
   ]
  },
  {
   "cell_type": "markdown",
   "id": "72bb65d4",
   "metadata": {},
   "source": [
    "Explain how your functions work using Markdown cells"
   ]
  },
  {
   "cell_type": "code",
   "execution_count": null,
   "id": "523c8087",
   "metadata": {},
   "outputs": [],
   "source": [
    "def review_preprocess(reviews):\n",
    "    preprocessed_reviews = [i.lower() for i in reviews]\n",
    "    return preprocessed_reviews\n",
    "\n",
    "space = review_preprocess(apple_pros)\n",
    "space\n",
    "\n",
    "space = review_preprocess(apple_cons)\n",
    "space\n",
    "\n",
    "space = review_preprocess(facebook_pros)\n",
    "space\n",
    "\n",
    "space = review_preprocess(facebook_cons)\n",
    "space\n",
    "\n",
    "space = review_preprocess(google_pros)\n",
    "space\n",
    "\n",
    "space = review_preprocess(google_cons)\n",
    "space"
   ]
  },
  {
   "cell_type": "code",
   "execution_count": null,
   "id": "4592a223",
   "metadata": {},
   "outputs": [],
   "source": [
    "def review_spaces(reviews):\n",
    "    preprocessed_reviews = [i.strip() for i in reviews]\n",
    "    return preprocessed_reviews\n",
    "\n",
    "apple_pros_space = review_spaces(apple_pros)\n",
    "apple_pros_space\n",
    "\n",
    "apple_cons_space = review_spaces(apple_cons)\n",
    "apple_cons_space\n",
    "\n",
    "facebook_pros_space = review_spaces(facebook_pros)\n",
    "facebook_pros_space\n",
    "\n",
    "facebook_cons_space = review_spaces(facebook_cons)\n",
    "facebook_cons_space\n",
    "\n",
    "google_pros_space = review_spaces(google_pros)\n",
    "google_pros_space\n",
    "\n",
    "google_cons_space = review_spaces(google_cons)\n",
    "google_cons_space"
   ]
  },
  {
   "cell_type": "code",
   "execution_count": null,
   "id": "8e351415",
   "metadata": {
    "scrolled": true
   },
   "outputs": [],
   "source": [
    "import string\n",
    "def remove_punctuations(reviews):\n",
    "    \n",
    "    translator = [i.translate(str.maketrans('','' ,string.punctuation)) for i in reviews]\n",
    "    return translator\n",
    "\n",
    "apple_pros_punctuation = remove_punctuations(apple_pros_space)\n",
    "apple_pros_punctuation\n",
    "\n",
    "apple_cons_punctuation = remove_punctuations(apple_cons_space)\n",
    "apple_cons_punctuation\n",
    "\n",
    "facebook_pros_punctuation = remove_punctuations(facebook_pros_space)\n",
    "facebook_pros_punctuation\n",
    "\n",
    "facebook_cons_punctuation = remove_punctuations(facebook_cons_space)\n",
    "facebook_cons_punctuation\n",
    "\n",
    "google_pros_punctuation = remove_punctuations(google_pros_space)\n",
    "google_pros_punctuation\n",
    "\n",
    "google_cons_punctuation = remove_punctuations(google_cons_space)\n",
    "google_cons_punctuation\n",
    "\n",
    "\n",
    " "
   ]
  },
  {
   "cell_type": "code",
   "execution_count": null,
   "id": "272b3721",
   "metadata": {},
   "outputs": [],
   "source": [
    "import string\n",
    "def remove_newline(reviews):\n",
    "    preprocessed_reviews = [i.replace('\\n', ' ') for i in reviews]\n",
    "    return preprocessed_reviews\n",
    "\n",
    "apple_pros_line = remove_newline(apple_pros_punctuation)\n",
    "apple_pros_line\n",
    "\n",
    "apple_cons_line = remove_newline(apple_cons_punctuation)\n",
    "apple_cons_line\n",
    "\n",
    "facebook_pros_line = remove_newline(facebook_pros_punctuation)\n",
    "facebook_pros_line\n",
    "\n",
    "facebook_cons_line = remove_newline(facebook_cons_punctuation)\n",
    "facebook_cons_line\n",
    "\n",
    "google_pros_line = remove_newline(google_pros_punctuation)\n",
    "google_pros_line\n",
    "\n",
    "google_cons_line = remove_newline(google_cons_punctuation)\n",
    "google_cons_line\n"
   ]
  },
  {
   "cell_type": "markdown",
   "id": "4fb447e1",
   "metadata": {},
   "source": [
    "Plug the 6 lists into your functions and get 6 proprocessed word lists"
   ]
  },
  {
   "cell_type": "markdown",
   "id": "04abe6e9",
   "metadata": {},
   "source": [
    "Plaase print out the **number of words** in each word list"
   ]
  },
  {
   "cell_type": "code",
   "execution_count": null,
   "id": "70896892",
   "metadata": {},
   "outputs": [],
   "source": [
    "def number_of_words(word_list):\n",
    "    result_list=[]\n",
    "    line_list =[ line.split() for line in word_list]\n",
    "    for j in line_list:\n",
    "        result_list.extend(j) \n",
    "    return len(result_list)\n",
    "\n",
    "apple_pros_word_count=number_of_words(apple_pros_punctuation)\n",
    "print(\"Apple_pros word count = \",apple_pros_word_count)\n",
    "\n",
    "apple_cons_word_count=number_of_words(apple_cons_punctuation)\n",
    "print(\"Apple_cons word count = \",apple_cons_word_count)\n",
    "\n",
    "facebook_pros_word_count=number_of_words(facebook_pros_punctuation)\n",
    "print(\"Facebook_pros word count = \",facebook_pros_word_count)\n",
    "\n",
    "facebook_cons_word_count=number_of_words(facebook_cons_punctuation)\n",
    "print(\"Facebook_cons word count= \",facebook_cons_word_count)\n",
    "\n",
    "google_pros_word_count=number_of_words(google_pros_punctuation)\n",
    "print(\"Google_cons word count = \",google_pros_word_count)\n",
    "     \n",
    "google_cons_word_count=number_of_words(google_cons_punctuation)\n",
    "print(\"Google_cons word count = \",google_cons_word_count)\n"
   ]
  },
  {
   "cell_type": "markdown",
   "id": "0bd6834f",
   "metadata": {},
   "source": [
    "\n",
    "## Step 3: Employee Satisfaction Score Calculation"
   ]
  },
  {
   "cell_type": "code",
   "execution_count": 4,
   "id": "187c3768",
   "metadata": {},
   "outputs": [
    {
     "ename": "NameError",
     "evalue": "name 'apple_pros_punctuation' is not defined",
     "output_type": "error",
     "traceback": [
      "\u001b[1;31m---------------------------------------------------------------------------\u001b[0m",
      "\u001b[1;31mNameError\u001b[0m                                 Traceback (most recent call last)",
      "Cell \u001b[1;32mIn[4], line 8\u001b[0m\n\u001b[0;32m      5\u001b[0m         result_list\u001b[38;5;241m.\u001b[39mextend(j) \n\u001b[0;32m      6\u001b[0m     \u001b[38;5;28;01mreturn\u001b[39;00m result_list\n\u001b[1;32m----> 8\u001b[0m apple_pros_words_list \u001b[38;5;241m=\u001b[39m create_word_list(\u001b[43mapple_pros_punctuation\u001b[49m)\n\u001b[0;32m      9\u001b[0m apple_cons_words_list \u001b[38;5;241m=\u001b[39m create_word_list(apple_cons_punctuation)\n\u001b[0;32m     11\u001b[0m google_pros_words_list \u001b[38;5;241m=\u001b[39m create_word_list(google_pros_punctuation)\n",
      "\u001b[1;31mNameError\u001b[0m: name 'apple_pros_punctuation' is not defined"
     ]
    }
   ],
   "source": [
    "def create_word_list(word_list):\n",
    "    result_list = []\n",
    "    line_list =[ line.split() for line in word_list]\n",
    "    for j in line_list:\n",
    "        result_list.extend(j) \n",
    "    return result_list\n",
    "\n",
    "apple_pros_words_list = create_word_list(apple_pros_punctuation)\n",
    "apple_cons_words_list = create_word_list(apple_cons_punctuation)\n",
    "\n",
    "google_pros_words_list = create_word_list(google_pros_punctuation)\n",
    "google_cons_words_list = create_word_list(google_cons_punctuation)\n",
    "\n",
    "facebook_pros_words_list = create_word_list(facebook_pros_punctuation)\n",
    "facebook_cons_words_list = create_word_list(google_cons_punctuation)\n",
    "\n",
    "\n",
    "\n",
    "def calculate_word_count(pros_list,cons_list,stop_list):\n",
    "    pos_word_count = 0\n",
    "    neg_word_count = 0\n",
    "    for i in pros_list:\n",
    "        if i in positive:\n",
    "            pos_word_count += 1\n",
    "    for i in cons_list:\n",
    "        if i in negative:\n",
    "            neg_word_count += 1\n",
    "    for i in stop_list:\n",
    "        if i in stopwords:\n",
    "            stop_word_count +=1\n",
    "            \n",
    "    return pos_word_count,neg_word_count,stop_word_count\n",
    " \n",
    "\n",
    "\n",
    "apple_positive_score, apple_negative_score = calculate_pos_and_neg_score(apple_pros_words_list,apple_cons_words_list)\n",
    "apple_employee_satisfaction_score = apple_positive_score-apple_negative_score\n",
    "print(\"apple_positive_score = \",apple_positive_score)\n",
    "print(\"apple_negative_score = \", apple_negative_score)\n",
    "print(\"apple_employee_satisfaction_score = \", apple_employee_satisfaction_score)\n",
    "\n",
    "google_positive_score, google_negative_score = calculate_pos_and_neg_score(google_pros_words_list,google_cons_words_list)\n",
    "google_employee_satisfaction_score = google_positive_score-google_negative_score\n",
    "print(\"google_positive_score= \",google_positive_score)\n",
    "print(\"google_negative_score = \", google_negative_score)\n",
    "print(\"google_employee_satisfaction_score = \", google_employee_satisfaction_score)\n",
    "\n",
    "facebook_positive_score, facebook_negative_score = calculate_pos_and_neg_score(apple_pros_words_list,apple_cons_words_list)\n",
    "_employee_satisfaction_score = facebook_positive_score-facebook_negative_score\n",
    "print(\"facebook_positive_score = \",apple_positive_score)\n",
    "print(\"facebook_negative_score = \", apple_negative_score)\n",
    "print(\"facebook_employee_satisfaction_score = \", apple_employee_satisfaction_score)\n",
    "\n",
    "\n",
    "\n",
    "\n"
   ]
  },
  {
   "cell_type": "markdown",
   "id": "1fa6ea34",
   "metadata": {},
   "source": [
    "### Goal: \n",
    "1. Calculate the **positive score** for each firm from their **pro reviews**\n",
    "2. Calculate the **negative score** for each firm from their **con reviews**\n",
    "3. Calculate **Employee Satisfaction Score** = positive score - negative score"
   ]
  },
  {
   "cell_type": "markdown",
   "id": "abc74721",
   "metadata": {},
   "source": [
    "### Analyze Apple, Facebook, and Google's pro review word lists"
   ]
  },
  {
   "cell_type": "markdown",
   "id": "fb676d07",
   "metadata": {},
   "source": [
    "Generate a function or functions to get the\n",
    "\n",
    "**1. positive word count**, \n",
    "**2. stop word count**, \n",
    "**3. total word count** \n",
    "\n",
    "from each firm's **pro** review word list."
   ]
  },
  {
   "cell_type": "code",
   "execution_count": null,
   "id": "e7893921",
   "metadata": {},
   "outputs": [],
   "source": [
    "def get_pro_scores(preprocessed_reviews):\n",
    "    '''\n",
    "    Generate a function or functions to get \n",
    "    1. positive word count\n",
    "    2. stop word count\n",
    "    3. total word count\n",
    "    from each firm's pro review word list\n",
    "    \n",
    "    You can combine all stpes in one function or seperate them into multiple functions\n",
    "    '''\n",
    "\n",
    "    return "
   ]
  },
  {
   "cell_type": "markdown",
   "id": "33d00aa4",
   "metadata": {},
   "source": [
    "1. Use the functions to calculate the **1. positive word count**, **2. stop word count**, **3. total word count**\n",
    "2. Calculate each firm's **Positive score = Positive word count/ (Total word count - Stop word count)**"
   ]
  },
  {
   "cell_type": "markdown",
   "id": "d29cbb36",
   "metadata": {},
   "source": [
    "Print out Apple's \n",
    "1. Positive word count\n",
    "2. Stop word count\n",
    "3. Total word count \n",
    "4. Firm positive score"
   ]
  },
  {
   "cell_type": "code",
   "execution_count": null,
   "id": "5c058a25",
   "metadata": {},
   "outputs": [],
   "source": [
    "print ()\n",
    "print ()\n",
    "print ()\n",
    "print ()"
   ]
  },
  {
   "cell_type": "markdown",
   "id": "811aa1c1",
   "metadata": {},
   "source": [
    "Print out Facebook's\n",
    "1. Positive word count\n",
    "2. Stop word count\n",
    "3. Total word count \n",
    "4. Firm positive score"
   ]
  },
  {
   "cell_type": "code",
   "execution_count": null,
   "id": "4abd770c",
   "metadata": {},
   "outputs": [],
   "source": [
    "print ()\n",
    "print ()\n",
    "print ()\n",
    "print ()"
   ]
  },
  {
   "cell_type": "markdown",
   "id": "b219732a",
   "metadata": {},
   "source": [
    "Print out Google's \n",
    "1. Positive word count\n",
    "2. Stop word count\n",
    "3. Total word count \n",
    "4. Firm positive score"
   ]
  },
  {
   "cell_type": "code",
   "execution_count": null,
   "id": "83cd8f35",
   "metadata": {},
   "outputs": [],
   "source": [
    "print ()\n",
    "print ()\n",
    "print ()\n",
    "print ()"
   ]
  },
  {
   "cell_type": "markdown",
   "id": "876d65d6",
   "metadata": {},
   "source": [
    "### Analyze Apple, Facebook, and Google's con review word lists"
   ]
  },
  {
   "cell_type": "markdown",
   "id": "afb14dd2",
   "metadata": {},
   "source": [
    "Generate a function or functions to get the\n",
    "\n",
    "**1. Negative word count**, \n",
    "**2. stop word count**, \n",
    "**3. total word count** \n",
    "\n",
    "from each firm's **con** review word list."
   ]
  },
  {
   "cell_type": "code",
   "execution_count": null,
   "id": "579448be",
   "metadata": {},
   "outputs": [],
   "source": [
    "def get_con_scores(preprocessed_reviews):\n",
    "    '''\n",
    "    Generate a function or functions to get \n",
    "    1. negative word count\n",
    "    2. stop word count\n",
    "    3. total word count\n",
    "    from each firm's con review word list\n",
    "    \n",
    "    You can combine all stpes in one function or seperate them into multiple functions\n",
    "    '''\n",
    "    return "
   ]
  },
  {
   "cell_type": "markdown",
   "id": "eff9b017",
   "metadata": {},
   "source": [
    "1. Use the function to calculate the **1. Negative word count**, **2. stop word count**, **3. total word count**\n",
    "2. Calculate each firm's **Negative score = Negative word count/ (Total word count - Stop word count)**"
   ]
  },
  {
   "cell_type": "code",
   "execution_count": null,
   "id": "e7dbfcd7",
   "metadata": {},
   "outputs": [],
   "source": []
  },
  {
   "cell_type": "markdown",
   "id": "7674dc3e",
   "metadata": {},
   "source": [
    "Print out Apple's \n",
    "1. Negative word count\n",
    "2. Stop word count\n",
    "3. Total word count \n",
    "4. Firm negative score"
   ]
  },
  {
   "cell_type": "code",
   "execution_count": null,
   "id": "b9c037d4",
   "metadata": {},
   "outputs": [],
   "source": [
    "print ()\n",
    "print ()\n",
    "print ()\n",
    "print ()"
   ]
  },
  {
   "cell_type": "markdown",
   "id": "fc6b8048",
   "metadata": {},
   "source": [
    "Print out Facebook's \n",
    "1. Negative word count\n",
    "2. Stop word count\n",
    "3. Total word count \n",
    "4. Firm negative score"
   ]
  },
  {
   "cell_type": "code",
   "execution_count": null,
   "id": "e48019aa",
   "metadata": {},
   "outputs": [],
   "source": [
    "print ()\n",
    "print ()\n",
    "print ()\n",
    "print ()"
   ]
  },
  {
   "cell_type": "markdown",
   "id": "fef2404e",
   "metadata": {},
   "source": [
    "Print out Google's \n",
    "1. Negative word count\n",
    "2. Stop word count\n",
    "3. Total word count \n",
    "4. Firm negative score"
   ]
  },
  {
   "cell_type": "code",
   "execution_count": null,
   "id": "736f2abf",
   "metadata": {},
   "outputs": [],
   "source": [
    "print ()\n",
    "print ()\n",
    "print ()\n",
    "print ()"
   ]
  },
  {
   "cell_type": "markdown",
   "id": "a1140694",
   "metadata": {},
   "source": [
    "### Calculate Apple, Facebook, and Google's employee satisfaction scores"
   ]
  },
  {
   "cell_type": "markdown",
   "id": "71c310ab",
   "metadata": {},
   "source": [
    "Recall the Employee Satisfaction Score = Firm positive score - Firm negative score\n",
    "<br>Print out each firm's Employee Satisfaction Score"
   ]
  },
  {
   "cell_type": "code",
   "execution_count": null,
   "id": "5368b113",
   "metadata": {},
   "outputs": [],
   "source": [
    "print ()\n",
    "print ()\n",
    "print ()"
   ]
  },
  {
   "cell_type": "markdown",
   "id": "4aa78b55",
   "metadata": {},
   "source": [
    "## Conclusion (Write your conclusion in the markdown cell below)"
   ]
  },
  {
   "cell_type": "markdown",
   "id": "1c99029b",
   "metadata": {},
   "source": [
    "Which firm has better employee satisfaction during COVID-19 pandemic?"
   ]
  },
  {
   "cell_type": "markdown",
   "id": "12b1a326",
   "metadata": {},
   "source": []
  },
  {
   "cell_type": "markdown",
   "id": "244a7afa",
   "metadata": {},
   "source": [
    "## Limitation"
   ]
  },
  {
   "cell_type": "markdown",
   "id": "fd3431fb",
   "metadata": {},
   "source": [
    "Please list at least one limitation of this analysis"
   ]
  },
  {
   "cell_type": "markdown",
   "id": "c6270a77",
   "metadata": {},
   "source": []
  }
 ],
 "metadata": {
  "kernelspec": {
   "display_name": "Python 3 (ipykernel)",
   "language": "python",
   "name": "python3"
  },
  "language_info": {
   "codemirror_mode": {
    "name": "ipython",
    "version": 3
   },
   "file_extension": ".py",
   "mimetype": "text/x-python",
   "name": "python",
   "nbconvert_exporter": "python",
   "pygments_lexer": "ipython3",
   "version": "3.11.4"
  }
 },
 "nbformat": 4,
 "nbformat_minor": 5
}
